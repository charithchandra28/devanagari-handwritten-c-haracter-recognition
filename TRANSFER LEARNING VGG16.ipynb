{
 "cells": [
  {
   "cell_type": "markdown",
   "metadata": {},
   "source": [
    "# TRANSFER LEARNING  ON DEVANAGARI DATASET (  BY VGG16 PRETRAINED ON IMAGENET DATASET)"
   ]
  },
  {
   "cell_type": "code",
   "execution_count": 1,
   "metadata": {},
   "outputs": [
    {
     "name": "stderr",
     "output_type": "stream",
     "text": [
      "Using TensorFlow backend.\n"
     ]
    }
   ],
   "source": [
    "import cv2\n",
    "import numpy as np\n",
    "import os\n",
    "import cv2\n",
    "import keras\n",
    "from keras.models import Sequential\n",
    "from keras.layers import Dense, Conv2D, MaxPooling2D, Dropout, Flatten\n",
    "from keras import initializers"
   ]
  },
  {
   "cell_type": "code",
   "execution_count": 2,
   "metadata": {},
   "outputs": [
    {
     "name": "stdout",
     "output_type": "stream",
     "text": [
      "the time took is  71.45630288124084  seconds\n"
     ]
    }
   ],
   "source": [
    "import time\n",
    "trainx=[]\n",
    "trainy=[]\n",
    "diction={}\n",
    "starttime=time.time()\n",
    "directory='./DevanagariHandwrittenCharacterDataset/Train'\n",
    "for index,folder in enumerate(os.listdir(directory)):\n",
    "    diction[folder]=index\n",
    "    directoryss = './DevanagariHandwrittenCharacterDataset/Train/'+folder\n",
    "    for file in os.listdir(directoryss):\n",
    "        img = cv2.imread(os.path.join(directoryss, file))\n",
    "        trainx.append(img)\n",
    "        trainy.append(index) \n",
    "    index=index+1   \n",
    "endtime=time.time()\n",
    "print(\"the time took is \",endtime-starttime,\" seconds\")\n",
    "    "
   ]
  },
  {
   "cell_type": "code",
   "execution_count": 3,
   "metadata": {},
   "outputs": [
    {
     "name": "stdout",
     "output_type": "stream",
     "text": [
      "the time took is  18.1514310836792  seconds\n"
     ]
    }
   ],
   "source": [
    "import time\n",
    "testx=[]\n",
    "testy=[]\n",
    "starttime=time.time()\n",
    "directory='./DevanagariHandwrittenCharacterDataset/Test'\n",
    "for index,folder in enumerate(os.listdir(directory)):\n",
    "    directoryss = './DevanagariHandwrittenCharacterDataset/Test/'+folder\n",
    "    for file in os.listdir(directoryss):\n",
    "        img = cv2.imread(os.path.join(directoryss, file))\n",
    "        testx.append(img)\n",
    "        testy.append(index) \n",
    "    index=index+1   \n",
    "endtime=time.time()\n",
    "print(\"the time took is \",endtime-starttime,\" seconds\")    "
   ]
  },
  {
   "cell_type": "code",
   "execution_count": 4,
   "metadata": {},
   "outputs": [
    {
     "name": "stdout",
     "output_type": "stream",
     "text": [
      "{'character_10_yna': 0, 'character_11_taamatar': 1, 'character_12_thaa': 2, 'character_13_daa': 3, 'character_14_dhaa': 4, 'character_15_adna': 5, 'character_16_tabala': 6, 'character_17_tha': 7, 'character_18_da': 8, 'character_19_dha': 9, 'character_1_ka': 10, 'character_20_na': 11, 'character_21_pa': 12, 'character_22_pha': 13, 'character_23_ba': 14, 'character_24_bha': 15, 'character_25_ma': 16, 'character_26_yaw': 17, 'character_27_ra': 18, 'character_28_la': 19, 'character_29_waw': 20, 'character_2_kha': 21, 'character_30_motosaw': 22, 'character_31_petchiryakha': 23, 'character_32_patalosaw': 24, 'character_33_ha': 25, 'character_34_chhya': 26, 'character_35_tra': 27, 'character_36_gya': 28, 'character_3_ga': 29, 'character_4_gha': 30, 'character_5_kna': 31, 'character_6_cha': 32, 'character_7_chha': 33, 'character_8_ja': 34, 'character_9_jha': 35, 'digit_0': 36, 'digit_1': 37, 'digit_2': 38, 'digit_3': 39, 'digit_4': 40, 'digit_5': 41, 'digit_6': 42, 'digit_7': 43, 'digit_8': 44, 'digit_9': 45}\n"
     ]
    }
   ],
   "source": [
    "print(diction)"
   ]
  },
  {
   "cell_type": "code",
   "execution_count": 5,
   "metadata": {
    "collapsed": true
   },
   "outputs": [],
   "source": [
    "trainx=np.array(trainx)\n",
    "trainy=np.array(trainy)\n",
    "testx=np.array(testx)\n",
    "testy=np.array(testy)"
   ]
  },
  {
   "cell_type": "code",
   "execution_count": 6,
   "metadata": {
    "collapsed": true
   },
   "outputs": [],
   "source": [
    "trainx = trainx.astype('float32')\n",
    "testx  = testx.astype('float32')"
   ]
  },
  {
   "cell_type": "code",
   "execution_count": 7,
   "metadata": {
    "collapsed": true
   },
   "outputs": [],
   "source": [
    "trainx=trainx/255\n",
    "testx=testx/255"
   ]
  },
  {
   "cell_type": "code",
   "execution_count": 8,
   "metadata": {
    "collapsed": true
   },
   "outputs": [],
   "source": [
    "trainy=trainy.reshape(-1,1)\n",
    "testy=testy.reshape(-1,1)"
   ]
  },
  {
   "cell_type": "code",
   "execution_count": 9,
   "metadata": {
    "collapsed": true
   },
   "outputs": [],
   "source": [
    "#converting to categorical values\n",
    "import keras\n",
    "y_train = keras.utils.to_categorical(trainy, 46)\n",
    "y_test = keras.utils.to_categorical(testy, 46)"
   ]
  },
  {
   "cell_type": "markdown",
   "metadata": {},
   "source": [
    "# removing top layers and adding my own layers  and making last four layers trainable"
   ]
  },
  {
   "cell_type": "code",
   "execution_count": 10,
   "metadata": {},
   "outputs": [
    {
     "name": "stdout",
     "output_type": "stream",
     "text": [
      "_________________________________________________________________\n",
      "Layer (type)                 Output Shape              Param #   \n",
      "=================================================================\n",
      "input_1 (InputLayer)         (None, 32, 32, 3)         0         \n",
      "_________________________________________________________________\n",
      "block1_conv1 (Conv2D)        (None, 32, 32, 64)        1792      \n",
      "_________________________________________________________________\n",
      "block1_conv2 (Conv2D)        (None, 32, 32, 64)        36928     \n",
      "_________________________________________________________________\n",
      "block1_pool (MaxPooling2D)   (None, 16, 16, 64)        0         \n",
      "_________________________________________________________________\n",
      "block2_conv1 (Conv2D)        (None, 16, 16, 128)       73856     \n",
      "_________________________________________________________________\n",
      "block2_conv2 (Conv2D)        (None, 16, 16, 128)       147584    \n",
      "_________________________________________________________________\n",
      "block2_pool (MaxPooling2D)   (None, 8, 8, 128)         0         \n",
      "_________________________________________________________________\n",
      "block3_conv1 (Conv2D)        (None, 8, 8, 256)         295168    \n",
      "_________________________________________________________________\n",
      "block3_conv2 (Conv2D)        (None, 8, 8, 256)         590080    \n",
      "_________________________________________________________________\n",
      "block3_conv3 (Conv2D)        (None, 8, 8, 256)         590080    \n",
      "_________________________________________________________________\n",
      "block3_pool (MaxPooling2D)   (None, 4, 4, 256)         0         \n",
      "_________________________________________________________________\n",
      "block4_conv1 (Conv2D)        (None, 4, 4, 512)         1180160   \n",
      "_________________________________________________________________\n",
      "block4_conv2 (Conv2D)        (None, 4, 4, 512)         2359808   \n",
      "_________________________________________________________________\n",
      "block4_conv3 (Conv2D)        (None, 4, 4, 512)         2359808   \n",
      "_________________________________________________________________\n",
      "block4_pool (MaxPooling2D)   (None, 2, 2, 512)         0         \n",
      "_________________________________________________________________\n",
      "block5_conv1 (Conv2D)        (None, 2, 2, 512)         2359808   \n",
      "_________________________________________________________________\n",
      "block5_conv2 (Conv2D)        (None, 2, 2, 512)         2359808   \n",
      "_________________________________________________________________\n",
      "block5_conv3 (Conv2D)        (None, 2, 2, 512)         2359808   \n",
      "_________________________________________________________________\n",
      "block5_pool (MaxPooling2D)   (None, 1, 1, 512)         0         \n",
      "=================================================================\n",
      "Total params: 14,714,688\n",
      "Trainable params: 14,714,688\n",
      "Non-trainable params: 0\n",
      "_________________________________________________________________\n",
      "19\n",
      "_________________________________________________________________\n",
      "Layer (type)                 Output Shape              Param #   \n",
      "=================================================================\n",
      "image_input (InputLayer)     (None, 32, 32, 3)         0         \n",
      "_________________________________________________________________\n",
      "vgg16 (Model)                (None, 1, 1, 512)         14714688  \n",
      "_________________________________________________________________\n",
      "flatten (Flatten)            (None, 512)               0         \n",
      "_________________________________________________________________\n",
      "fc1 (Dense)                  (None, 1024)              525312    \n",
      "_________________________________________________________________\n",
      "dropout_1 (Dropout)          (None, 1024)              0         \n",
      "_________________________________________________________________\n",
      "predictions (Dense)          (None, 46)                47150     \n",
      "=================================================================\n",
      "Total params: 15,287,150\n",
      "Trainable params: 15,287,150\n",
      "Non-trainable params: 0\n",
      "_________________________________________________________________\n",
      "6\n"
     ]
    }
   ],
   "source": [
    "import keras.backend as K\n",
    "K.set_image_dim_ordering('tf')\n",
    "from keras.applications.vgg16 import VGG16\n",
    "from keras.layers import Input\n",
    "from keras.models import Model\n",
    "#load vgg model from keras\n",
    "vgg_16_model = VGG16(weights='imagenet',include_top=False,input_shape=(32,32,3))\n",
    "vgg_16_model.summary()\n",
    "print(len(vgg_16_model.layers))\n",
    "\n",
    "inputs = Input(shape = (32,32,3), name = \"image_input\")\n",
    "#create dummy layer\n",
    "output_vgg16_model = vgg_16_model(inputs)\n",
    "#Add the fully-connected layers \n",
    "x = Flatten(name='flatten')(output_vgg16_model)\n",
    "x = Dense(1024, activation='relu', name='fc1')(x)\n",
    "x = Dropout(0.5)(x)\n",
    "x = Dense(46, activation='softmax', name='predictions')(x)\n",
    "#Create custom model\n",
    "character_vgg = Model(inputs=inputs, outputs=x)\n",
    "character_vgg.summary()\n",
    "#making last 4 layers trainable\n",
    "for layer in character_vgg.layers[:-4]:\n",
    "      layer.trainable = False\n",
    "    \n",
    "print(len(character_vgg.layers))"
   ]
  },
  {
   "cell_type": "code",
   "execution_count": 11,
   "metadata": {
    "collapsed": true
   },
   "outputs": [],
   "source": [
    "character_vgg.compile(optimizer='adam', loss='categorical_crossentropy', metrics=['accuracy'])"
   ]
  },
  {
   "cell_type": "code",
   "execution_count": 12,
   "metadata": {},
   "outputs": [
    {
     "name": "stdout",
     "output_type": "stream",
     "text": [
      "Train on 78200 samples, validate on 13800 samples\n",
      "Epoch 1/15\n",
      " - 1831s - loss: 1.8864 - acc: 0.5060 - val_loss: 0.9987 - val_acc: 0.7528\n",
      "\n",
      "Epoch 00001: val_acc improved from -inf to 0.75283, saving model to weightsbest.hdf5\n",
      "Epoch 2/15\n",
      " - 1869s - loss: 0.9100 - acc: 0.7481 - val_loss: 0.6675 - val_acc: 0.8270\n",
      "\n",
      "Epoch 00002: val_acc improved from 0.75283 to 0.82703, saving model to weightsbest.hdf5\n",
      "Epoch 3/15\n",
      " - 1878s - loss: 0.6878 - acc: 0.8059 - val_loss: 0.5463 - val_acc: 0.8507\n",
      "\n",
      "Epoch 00003: val_acc improved from 0.82703 to 0.85065, saving model to weightsbest.hdf5\n",
      "Epoch 4/15\n",
      " - 2038s - loss: 0.5791 - acc: 0.8343 - val_loss: 0.4633 - val_acc: 0.8707\n",
      "\n",
      "Epoch 00004: val_acc improved from 0.85065 to 0.87072, saving model to weightsbest.hdf5\n",
      "Epoch 5/15\n",
      " - 2085s - loss: 0.5100 - acc: 0.8513 - val_loss: 0.4183 - val_acc: 0.8822\n",
      "\n",
      "Epoch 00005: val_acc improved from 0.87072 to 0.88217, saving model to weightsbest.hdf5\n",
      "Epoch 6/15\n",
      " - 2261s - loss: 0.4592 - acc: 0.8670 - val_loss: 0.3783 - val_acc: 0.8933\n",
      "\n",
      "Epoch 00006: val_acc improved from 0.88217 to 0.89333, saving model to weightsbest.hdf5\n",
      "Epoch 7/15\n",
      " - 2078s - loss: 0.4243 - acc: 0.8764 - val_loss: 0.3534 - val_acc: 0.8992\n",
      "\n",
      "Epoch 00007: val_acc improved from 0.89333 to 0.89920, saving model to weightsbest.hdf5\n",
      "Epoch 8/15\n",
      " - 2395s - loss: 0.3939 - acc: 0.8848 - val_loss: 0.3356 - val_acc: 0.9030\n",
      "\n",
      "Epoch 00008: val_acc improved from 0.89920 to 0.90297, saving model to weightsbest.hdf5\n",
      "Epoch 9/15\n",
      " - 2855s - loss: 0.3683 - acc: 0.8898 - val_loss: 0.3180 - val_acc: 0.9064\n",
      "\n",
      "Epoch 00009: val_acc improved from 0.90297 to 0.90645, saving model to weightsbest.hdf5\n",
      "Epoch 10/15\n",
      " - 1793s - loss: 0.3487 - acc: 0.8952 - val_loss: 0.2992 - val_acc: 0.9142\n",
      "\n",
      "Epoch 00010: val_acc improved from 0.90645 to 0.91420, saving model to weightsbest.hdf5\n",
      "Epoch 11/15\n",
      " - 1792s - loss: 0.3315 - acc: 0.9024 - val_loss: 0.2871 - val_acc: 0.9155\n",
      "\n",
      "Epoch 00011: val_acc improved from 0.91420 to 0.91551, saving model to weightsbest.hdf5\n",
      "Epoch 12/15\n",
      " - 1801s - loss: 0.3127 - acc: 0.9070 - val_loss: 0.2778 - val_acc: 0.9196\n",
      "\n",
      "Epoch 00012: val_acc improved from 0.91551 to 0.91957, saving model to weightsbest.hdf5\n",
      "Epoch 13/15\n",
      " - 1798s - loss: 0.2985 - acc: 0.9109 - val_loss: 0.2719 - val_acc: 0.9192\n",
      "\n",
      "Epoch 00013: val_acc did not improve from 0.91957\n",
      "Epoch 14/15\n",
      " - 1815s - loss: 0.2858 - acc: 0.9147 - val_loss: 0.2592 - val_acc: 0.9250\n",
      "\n",
      "Epoch 00014: val_acc improved from 0.91957 to 0.92500, saving model to weightsbest.hdf5\n",
      "Epoch 15/15\n",
      " - 1804s - loss: 0.2754 - acc: 0.9170 - val_loss: 0.2593 - val_acc: 0.9241\n",
      "\n",
      "Epoch 00015: val_acc did not improve from 0.92500\n",
      "the time took is  30106.087636232376  seconds\n"
     ]
    }
   ],
   "source": [
    "batch_size = 500\n",
    "epochs = 15\n",
    "starttime=time.time()\n",
    "filepath=\"weightsbest.hdf5\"\n",
    "from keras.callbacks import ModelCheckpoint\n",
    "checkpoint = ModelCheckpoint(filepath, monitor='val_acc', verbose=1, save_best_only=True, mode='max')\n",
    "callbacks_list = [checkpoint]\n",
    "history =character_vgg.fit(trainx, y_train, batch_size=batch_size,callbacks=callbacks_list,epochs=epochs, verbose=2, validation_data=(testx, y_test))\n",
    "print(\"the time took is \",time.time()-starttime,\" seconds\")"
   ]
  },
  {
   "cell_type": "code",
   "execution_count": 13,
   "metadata": {},
   "outputs": [
    {
     "name": "stdout",
     "output_type": "stream",
     "text": [
      "Accuracy: 92.41%\n"
     ]
    }
   ],
   "source": [
    "scores = character_vgg.evaluate(testx, y_test, verbose=0)\n",
    "print(\"Accuracy: %.2f%%\" % (scores[1]*100))"
   ]
  },
  {
   "cell_type": "markdown",
   "metadata": {},
   "source": [
    "# plotting validation vs train accuracy"
   ]
  },
  {
   "cell_type": "code",
   "execution_count": 15,
   "metadata": {},
   "outputs": [
    {
     "data": {
      "image/png": "[encoded data removed]",
      "text/plain": [
       "<matplotlib.figure.Figure at 0x24b883b4470>"
      ]
     },
     "metadata": {},
     "output_type": "display_data"
    }
   ],
   "source": [
    "import matplotlib.pyplot as plt\n",
    "fig1,ax_acc = plt.subplots()\n",
    "plt.plot(history.history['acc'])\n",
    "plt.plot(history.history['val_acc'])\n",
    "plt.xlabel('Epoch')\n",
    "plt.ylabel('Accuracy')\n",
    "plt.title('Model - Accuracy')\n",
    "plt.legend(['Training', 'Validation'], loc='lower right')\n",
    "plt.show()"
   ]
  },
  {
   "cell_type": "markdown",
   "metadata": {},
   "source": [
    "# it is neither overfitting nor underfitting as training accuracy follows same path as validation accuracy"
   ]
  }
 ],
 "metadata": {
  "kernelspec": {
   "display_name": "Python 3",
   "language": "python",
   "name": "python3"
  },
  "language_info": {
   "codemirror_mode": {
    "name": "ipython",
    "version": 3
   },
   "file_extension": ".py",
   "mimetype": "text/x-python",
   "name": "python",
   "nbconvert_exporter": "python",
   "pygments_lexer": "ipython3",
   "version": "3.6.3"
  }
 },
 "nbformat": 4,
 "nbformat_minor": 2
}
