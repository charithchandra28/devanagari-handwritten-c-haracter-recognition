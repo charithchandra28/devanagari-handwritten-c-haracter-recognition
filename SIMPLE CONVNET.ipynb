{
 "cells": [
  {
   "cell_type": "markdown",
   "metadata": {},
   "source": [
    "# BUILDING SIMPLE CONVOLUTION NEURAL NETWORKS ON DEVANAGARI DATASET"
   ]
  },
  {
   "cell_type": "code",
   "execution_count": 1,
   "metadata": {},
   "outputs": [
    {
     "name": "stderr",
     "output_type": "stream",
     "text": [
      "Using TensorFlow backend.\n"
     ]
    }
   ],
   "source": [
    "import cv2\n",
    "import numpy as np\n",
    "import os\n",
    "import keras\n",
    "from keras.models import Sequential\n",
    "from keras.layers import Dense, Conv2D, MaxPooling2D, Dropout, Flatten\n",
    "from keras import initializers"
   ]
  },
  {
   "cell_type": "code",
   "execution_count": 2,
   "metadata": {},
   "outputs": [
    {
     "name": "stdout",
     "output_type": "stream",
     "text": [
      "the time took is  155.85854840278625  seconds\n"
     ]
    }
   ],
   "source": [
    "import time\n",
    "trainx=[]\n",
    "trainy=[]\n",
    "diction={}\n",
    "starttime=time.time()\n",
    "directory='./DevanagariHandwrittenCharacterDataset/Train'\n",
    "for index,folder in enumerate(os.listdir(directory)):\n",
    "    diction[folder]=index\n",
    "    directoryss = './DevanagariHandwrittenCharacterDataset/Train/'+folder\n",
    "    for file in os.listdir(directoryss):\n",
    "        img = cv2.imread(os.path.join(directoryss, file))\n",
    "        trainx.append(img)\n",
    "        trainy.append(index) \n",
    "    index=index+1   \n",
    "endtime=time.time()\n",
    "print(\"the time took is \",endtime-starttime,\" seconds\")\n",
    "    "
   ]
  },
  {
   "cell_type": "code",
   "execution_count": 3,
   "metadata": {},
   "outputs": [
    {
     "name": "stdout",
     "output_type": "stream",
     "text": [
      "the time took is  32.00905680656433  seconds\n"
     ]
    }
   ],
   "source": [
    "import time\n",
    "testx=[]\n",
    "testy=[]\n",
    "starttime=time.time()\n",
    "directory='./DevanagariHandwrittenCharacterDataset/Test'\n",
    "for index,folder in enumerate(os.listdir(directory)):\n",
    "    directoryss = './DevanagariHandwrittenCharacterDataset/Test/'+folder\n",
    "    for file in os.listdir(directoryss):\n",
    "        img = cv2.imread(os.path.join(directoryss, file))\n",
    "        testx.append(img)\n",
    "        testy.append(index) \n",
    "    index=index+1   \n",
    "endtime=time.time()\n",
    "print(\"the time took is \",endtime-starttime,\" seconds\")    "
   ]
  },
  {
   "cell_type": "code",
   "execution_count": 4,
   "metadata": {
    "collapsed": true
   },
   "outputs": [],
   "source": [
    "trainx=np.array(trainx)\n",
    "trainy=np.array(trainy)\n",
    "testx=np.array(testx)\n",
    "testy=np.array(testy)"
   ]
  },
  {
   "cell_type": "code",
   "execution_count": 5,
   "metadata": {
    "collapsed": true
   },
   "outputs": [],
   "source": [
    "trainx = trainx.astype('float32')\n",
    "testx  = testx.astype('float32')"
   ]
  },
  {
   "cell_type": "code",
   "execution_count": 6,
   "metadata": {
    "collapsed": true
   },
   "outputs": [],
   "source": [
    "trainx=trainx/255\n",
    "testx=testx/255"
   ]
  },
  {
   "cell_type": "code",
   "execution_count": 7,
   "metadata": {
    "collapsed": true
   },
   "outputs": [],
   "source": [
    "trainy=trainy.reshape(-1,1)\n",
    "testy=testy.reshape(-1,1)"
   ]
  },
  {
   "cell_type": "code",
   "execution_count": 8,
   "metadata": {
    "collapsed": true
   },
   "outputs": [],
   "source": [
    "import keras\n",
    "y_train = keras.utils.to_categorical(trainy, 46)\n",
    "y_test = keras.utils.to_categorical(testy, 46)"
   ]
  },
  {
   "cell_type": "code",
   "execution_count": 9,
   "metadata": {
    "collapsed": true
   },
   "outputs": [],
   "source": [
    "from keras.layers import Activation, Dropout, Flatten, Dense\n",
    "model = Sequential()\n",
    "model.add(Conv2D(32, (3, 3), input_shape=(32,32,3),kernel_initializer=initializers.he_normal()))\n",
    "model.add(Activation('relu'))\n",
    "model.add(MaxPooling2D(pool_size=(2, 2)))\n",
    "\n",
    "model.add(Conv2D(32, (3, 3),kernel_initializer=initializers.he_normal()))\n",
    "model.add(Activation('relu'))\n",
    "model.add(MaxPooling2D(pool_size=(2, 2)))\n",
    "\n",
    "model.add(Conv2D(64, (3, 3),kernel_initializer=initializers.he_normal()))\n",
    "model.add(Activation('relu'))\n",
    "model.add(MaxPooling2D(pool_size=(2, 2)))\n",
    "\n",
    "model.add(Flatten())\n",
    "model.add(Dense(64,kernel_initializer=initializers.he_normal()))\n",
    "model.add(Activation('relu'))\n",
    "model.add(Dropout(0.5))\n",
    "model.add(Dense(46,kernel_initializer=initializers.glorot_normal()))\n",
    "model.add(Activation('softmax'))"
   ]
  },
  {
   "cell_type": "code",
   "execution_count": 10,
   "metadata": {
    "collapsed": true
   },
   "outputs": [],
   "source": [
    "model.compile(loss='categorical_crossentropy',\n",
    "              optimizer='adam',\n",
    "              metrics=['accuracy'])"
   ]
  },
  {
   "cell_type": "code",
   "execution_count": 11,
   "metadata": {},
   "outputs": [
    {
     "name": "stdout",
     "output_type": "stream",
     "text": [
      "Train on 78200 samples, validate on 13800 samples\n",
      "Epoch 1/15\n",
      " - 192s - loss: 3.1985 - acc: 0.1686 - val_loss: 1.6302 - val_acc: 0.6148\n",
      "Epoch 2/15\n",
      " - 180s - loss: 1.8211 - acc: 0.4595 - val_loss: 0.8614 - val_acc: 0.7875\n",
      "Epoch 3/15\n",
      " - 172s - loss: 1.3183 - acc: 0.5910 - val_loss: 0.5834 - val_acc: 0.8452\n",
      "Epoch 4/15\n",
      " - 171s - loss: 1.0851 - acc: 0.6576 - val_loss: 0.4416 - val_acc: 0.8812\n",
      "Epoch 5/15\n",
      " - 170s - loss: 0.9365 - acc: 0.7021 - val_loss: 0.3625 - val_acc: 0.8996\n",
      "Epoch 6/15\n",
      " - 170s - loss: 0.8405 - acc: 0.7328 - val_loss: 0.3199 - val_acc: 0.9083\n",
      "Epoch 7/15\n",
      " - 170s - loss: 0.7578 - acc: 0.7587 - val_loss: 0.2832 - val_acc: 0.9178\n",
      "Epoch 8/15\n",
      " - 167s - loss: 0.6941 - acc: 0.7752 - val_loss: 0.2521 - val_acc: 0.9274\n",
      "Epoch 9/15\n",
      " - 175s - loss: 0.6365 - acc: 0.7962 - val_loss: 0.2353 - val_acc: 0.9297\n",
      "Epoch 10/15\n",
      " - 176s - loss: 0.5897 - acc: 0.8099 - val_loss: 0.2152 - val_acc: 0.9354\n",
      "Epoch 11/15\n",
      " - 188s - loss: 0.5410 - acc: 0.8251 - val_loss: 0.2075 - val_acc: 0.9385\n",
      "Epoch 12/15\n",
      " - 195s - loss: 0.5068 - acc: 0.8352 - val_loss: 0.1870 - val_acc: 0.9444\n",
      "Epoch 13/15\n",
      " - 192s - loss: 0.4837 - acc: 0.8430 - val_loss: 0.1738 - val_acc: 0.9481\n",
      "Epoch 14/15\n",
      " - 193s - loss: 0.4531 - acc: 0.8536 - val_loss: 0.1716 - val_acc: 0.9489\n",
      "Epoch 15/15\n",
      " - 195s - loss: 0.4333 - acc: 0.8579 - val_loss: 0.1561 - val_acc: 0.9525\n"
     ]
    }
   ],
   "source": [
    "batch_size = 500\n",
    "epochs = 15\n",
    "lossinfo=model.fit(trainx,y_train,batch_size=batch_size,epochs=epochs,verbose=2,validation_data=(testx, y_test))"
   ]
  },
  {
   "cell_type": "code",
   "execution_count": 12,
   "metadata": {
    "collapsed": true
   },
   "outputs": [],
   "source": [
    "model.save('characterweightsss.h5')"
   ]
  },
  {
   "cell_type": "code",
   "execution_count": 13,
   "metadata": {},
   "outputs": [
    {
     "name": "stdout",
     "output_type": "stream",
     "text": [
      "Accuracy: 95.25%\n"
     ]
    }
   ],
   "source": [
    "scores = model.evaluate(testx, y_test, verbose=0)\n",
    "print(\"Accuracy: %.2f%%\" % (scores[1]*100))"
   ]
  },
  {
   "cell_type": "markdown",
   "metadata": {},
   "source": [
    "# plotting validation vs train accuracy"
   ]
  },
  {
   "cell_type": "code",
   "execution_count": 18,
   "metadata": {},
   "outputs": [
    {
     "data": {
      "image/png": "[encoded data removed]",
      "text/plain": [
       "<matplotlib.figure.Figure at 0x1b70e00d2e8>"
      ]
     },
     "metadata": {},
     "output_type": "display_data"
    }
   ],
   "source": [
    "import matplotlib.pyplot as plt\n",
    "fig1,ax_acc = plt.subplots()\n",
    "plt.plot(lossinfo.history['acc'])\n",
    "plt.plot(lossinfo.history['val_acc'])\n",
    "plt.xlabel('Epoch')\n",
    "plt.ylabel('Accuracy')\n",
    "plt.title('Model - Accuracy')\n",
    "plt.legend(['Training', 'Validation'], loc='lower right')\n",
    "plt.show()"
   ]
  }
 ],
 "metadata": {
  "kernelspec": {
   "display_name": "Python 3",
   "language": "python",
   "name": "python3"
  },
  "language_info": {
   "codemirror_mode": {
    "name": "ipython",
    "version": 3
   },
   "file_extension": ".py",
   "mimetype": "text/x-python",
   "name": "python",
   "nbconvert_exporter": "python",
   "pygments_lexer": "ipython3",
   "version": "3.6.3"
  }
 },
 "nbformat": 4,
 "nbformat_minor": 2
}
